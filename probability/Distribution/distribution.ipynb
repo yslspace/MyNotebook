{
 "cells": [
  {
   "cell_type": "markdown",
   "metadata": {},
   "source": [
    "# 概率论学习感想笔记(1) -Distribution分布"
   ]
  },
  {
   "cell_type": "markdown",
   "metadata": {},
   "source": [
    "## 前言\n",
    "&emsp;&emsp;概率分布是一个从高考数学就开始接触的知识，高中的时候就学习了均匀分布和正态分布，做排列组合题也早早就接触了二项分布和超几何分布，直到本科用茆诗松的教程系统的学概率论，说实话一直都是懵懂懵懂的，也一直记不住泊松分布、指数分布等等。直到后来在知乎上看到了[马同学](https://www.zhihu.com/people/matongxue/activities)关于泊松、指数分布的回答，加以自己的思考，才逐渐理解了下面这些问题：  \n",
    "- 几何分布为什么叫“几何”？超几何分布为什么叫“超几何”？  \n",
    "- 为什么要设置$np=\\lambda$，使得二项分布推导成近泊松分布？  \n",
    "- 指数分布和泊松分布的关系？  \n",
    "- 正态分布为什么那么常见？  \n",
    "  \n",
    "&emsp;&emsp;对这些问题的思考让我逐渐明白了这些分布为什么那么重要，以及让我更加清楚了他们在现实中的含义。  \n",
    "教材中多是以Discrete和Continuous分类出各种分布再细讲的，这篇笔记倾向于讲述它们之间关系，其实我们会看到很多离散分布和连续分布其实是有关联的，很多连续分布其实是离散分布的补充或者微分思想下的产物。"
   ]
  },
  {
   "cell_type": "markdown",
   "metadata": {},
   "source": [
    "## 分布现实意义\n",
    "&emsp;&emsp;$Bernouli \\ random \\ variable$,对应伯努利实验,其实就是进行一次概率为$p$的非1即0的实验。例如抛一枚硬币。  \n",
    "任何事件都是以进行n次伯努利实验开始考量的。\n",
    "分布的基础是n次重复实验，\n",
    "\n",
    "|  事件   | 离散条件  | 连续条件 |\n",
    "|  ----  | ----  |  ---- |\n",
    "| 出现n次的概率  | 二项分布$\\rightarrow$泊松分布 | 正态分布 |\n",
    "| 直到某事发生  | 几何分布 | 指数分布|"
   ]
  },
  {
   "cell_type": "markdown",
   "metadata": {},
   "source": [
    "### “出现n次的概率”\n",
    "#### Bernouli和Binomial\n",
    "&emsp;&emsp;$Binomial \\ random \\ variable$，对应二项分布，是n次重复Bernouli。例如重复抛n次硬币。  \n",
    "\n",
    "&emsp;&emsp;无论任何教材学习分布，最先学习的都是这两个分布。其原因是我认为是因为生活中任何分布和规律都可以不断切分，慢慢变成这两种分布。  \n",
    "比如我们要判断一个人健康的概率，可以分为很多个非1即0的Bernouli实验：P(TA有心脏病)，P(TA有肠胃病)，P(TA有呼吸道疾病)...  \n",
    "而针各种疾病作为事件我们又可以继续细分出各种影响因素：P(TA有熬夜习惯)，P(TA有吸烟习惯)，P(TA有久坐习惯)...  \n",
    "因此这两个分布几乎是分析任何事情的基础。"
   ]
  },
  {
   "cell_type": "markdown",
   "metadata": {},
   "source": [
    "#### Poisson\n",
    "&emsp;&emsp;$Poisson \\ random \\ variable$，对应泊松分布，这个分布其实是对无法用二项分布来解释的东西进行了一次微分思想的改造使其变成了可以用二项分布来思考。  \n",
    "&emsp;&emsp;知乎上这个回答[泊松分布的现实意义是什么，为什么现实生活多数服从于泊松分布？](https://www.zhihu.com/search?q=%E6%B3%8A%E6%9D%BE%E5%88%86%E5%B8%83&utm_content=search_history&type=content)卖馒头例子我觉得已经非常好解释清楚泊松分布的思想了。  \n",
    "当我们对每天卖馒头个数（可能卖出3个5个或者更多）这件事件无法用二项分布来分析，我们不妨对时间做细分，细分成一小时卖出馒头数，不行就在细分出五分钟卖出馒头数，直到某个细分时，我们的分析变成了P(一秒钟能不能卖出一个馒头)非1即0事件。  \n",
    "在这个微分的过程中：  \n",
    "一天 $\\Rightarrow$ 一小时 $\\Rightarrow$ 五分钟 $\\Rightarrow$ 一秒钟 (其实就是n次重复实验n变大的过程)  \n",
    "一天卖出馒头 $\\Rightarrow$ 一小时卖出馒头 $\\Rightarrow$ 五分钟卖出馒头 $\\Rightarrow$ 一秒钟卖出馒头    (其实就是卖出馒头概率p变小的过程)"
   ]
  },
  {
   "cell_type": "markdown",
   "metadata": {},
   "source": [
    "### “直到某事发生”\n",
    "#### 几何分布和超几何分布\n",
    "- $Geometric \\ random \\ varibale$，对应几何分布，其含义很简单，抛一枚硬币重复第n次才出现正面的概率。  \n",
    "其密度函数：  \n",
    "$$\n",
    "P(X=k)=C^{k}_{n}p(1-p)^k\n",
    "$$\n",
    "\n",
    "  \n",
    "- $Hyper-Geometric Distribution$，超几何分布，其含义是在有M个次品的N个产品中抽n个产品进行检查，则抽到k个次品的概率服从超几何分布。  \n",
    "其密度函数：\n",
    "$$\n",
    "P(X=k)=\\frac{C^{k}_{M}C^{n-k}_{N-M}}{C^{n}_{N}}\n",
    "$$\n",
    "\n",
    "> 几何分布和超几何分布的名字由来于几何数列和超几何数列。  \n",
    ">> 几何数列：我们可以联想到常说的“几何式增长”，即$\\frac{a_{n+1}}{a_{n}}=常数$  \n",
    "几何分布的$\\frac{P(X=k+1)}{P(X=k)}$是一个常数(1-p)  \n",
    "\n",
    ">> 超几何数列：后一项跟前一项的比是一个关于n的有理函数，即$\\frac{a_{n+1}}{a_{n}}=f(n) \\ \\ \\ 例如=5n$  \n",
    "超几何分布$\\frac{P(X=k+1)}{P(X=k)}\\frac{(M-m)(n-m)}{(N-M+m-n+1)(m+1)}$"
   ]
  },
  {
   "cell_type": "markdown",
   "metadata": {},
   "source": [
    "#### 指数分布\n",
    "$Exponential \\ random \\ variable$,对应指数分布，它的现实含义是在一段时间后某事下一次发生的概率。  \n",
    "另泊松分布的X=0 and $\\lambda=\\lambda t$时候可以得出指数分布的分布函数，再求导即可得指数分布密度函数。\n",
    "X=0的意义为：未来某段时间不发生的概率\n",
    "$\\lambda=\\lambda t$的意义为这段时间，t是分数。  \n",
    "[指数分布公式的含义是什么？](https://www.zhihu.com/question/24796044/answer/32785506)  "
   ]
  },
  {
   "cell_type": "markdown",
   "metadata": {},
   "source": [
    "#### 伽马分布\n",
    "[怎么来理解伽玛（gamma）分布？](https://www.zhihu.com/question/34866983/answer/191286772)"
   ]
  },
  {
   "cell_type": "markdown",
   "metadata": {},
   "source": [
    "## 正态分布\n",
    "[正态分布前世今生](https://cosx.org/2013/01/story-of-normal-distribution-1/)  \n",
    "先有中心极限才有正态分布。"
   ]
  },
  {
   "cell_type": "markdown",
   "metadata": {},
   "source": [
    "# 公式推导"
   ]
  },
  {
   "cell_type": "markdown",
   "metadata": {},
   "source": [
    "## Binomial 到 Poisson\n",
    "服从$(n,p)$参数的$Bernouli \\ random \\ variable$，对任意整数$k<n$，其概率密度函数：  \n",
    "\n",
    "$$P(X=k)=C^k_n p^k (1-p)^{n-k}$$ \n",
    "转变成泊松分布：  \n",
    "当$n\\rightarrow\\infty$，$np=\\lambda$即$p=\\frac{\\lambda}{n}$  \n",
    "($\\lambda$就是分布的均值，可以看作二项分布的$\\overline{X}$)  \n",
    "\\begin{eqnarray}\n",
    "P(X=k) & = & C^k_n p^k (1-p)^{n-k} \\\\\n",
    " & = & \\frac{n(n-1)...(n-k+1)}{k!}p^k (1-p)^{n-k} \\\\\n",
    " & = & \\frac{n(n-1)...(n-k+1)}{k!}\\frac{\\lambda^k}{n^k} (1-\\frac{\\lambda}{n})^{n} \\frac{n^k}{(n-\\lambda)^k}\n",
    "\\end{eqnarray}\n",
    "由极限\n",
    "\n",
    "$$\n",
    "\\lim_{n\\to \\infty} (1-\\frac{\\lambda}{n})^{n}=e^{-\\lambda}\n",
    "$$\n",
    "以及\n",
    "\n",
    "$$\\lim_{n\\to \\infty} \\frac{n(n-1)...(n-k+1)}{(n-\\lambda)^k}=1$$\n",
    "推出在参数$\\lambda$下的泊松分布  \n",
    "\n",
    "$$P(X=k)=e^{-\\lambda}\\frac{\\lambda^k}{k!}$$\n",
    "\n",
    "二项分布中的$k$看作n次实验中出现1的次数，但在泊松分布中的$k$代表了“一天卖出馒头个数”。"
   ]
  },
  {
   "cell_type": "markdown",
   "metadata": {},
   "source": [
    "## Possion 到 指数分布\n",
    "令泊松分布的X=0 and $\\lambda=\\lambda t$，Y服从指数分布，  \n",
    "即  \n",
    "$$P(Y>t)=P(X=0,\\lambda=\\lambda t)=e^{-\\lambda t}\\frac{(\\lambda t)^0}{0!}=e^{-\\lambda t}$$  \n",
    "转化成Y的分布函数    \n",
    "$$P(Y\\leq t)=1-P(Y>t)=1-e^{-\\lambda t}\n",
    "\\begin{cases}\n",
    "  1-e^{-\\lambda t}, & y \\geq 0 \\\\\n",
    "  1 - p, & y = 0\n",
    "\\end{cases}$$\n",
    "即  \n",
    "$$F(Y)= \\begin{cases}\n",
    "  1-e^{-\\lambda y}, & y \\geq 0 \\\\\n",
    "  0, & y < 0\n",
    "\\end{cases}$$  \n",
    "对其求导  \n",
    "$$p(Y)=\n",
    "\\begin{cases}\n",
    "  \\lambda e^{-\\lambda y}, & y \\geq 0 \\\\\n",
    "  0, & y < 0\n",
    "\\end{cases}$$\n",
    "指数函数得以推导"
   ]
  },
  {
   "cell_type": "markdown",
   "metadata": {},
   "source": [
    "# Python实验\n",
    "> [graykode's github](https://github.com/graykode/distribution-is-all-you-need) \n",
    "> Code by Tae-Hwan Hung(@graykode)\n",
    "![Distribution Relation](https://github.com/graykode/distribution-is-all-you-need/raw/master/overview.png)\n",
    "## Bernouli"
   ]
  },
  {
   "cell_type": "code",
   "execution_count": 3,
   "metadata": {},
   "outputs": [
    {
     "data": {
      "image/png": "[encoded data removed]",
      "text/plain": [
       "<Figure size 432x288 with 1 Axes>"
      ]
     },
     "metadata": {
      "needs_background": "light"
     },
     "output_type": "display_data"
    }
   ],
   "source": [
    "import random\n",
    "import numpy as np\n",
    "from matplotlib import pyplot as plt\n",
    "\n",
    "def bernoulli(p, k):\n",
    "    return p if k else 1 - p\n",
    "\n",
    "n_experiment = 100\n",
    "p = 0.6\n",
    "x = np.arange(n_experiment)\n",
    "y = []\n",
    "for _ in range(n_experiment):\n",
    "    pick = bernoulli(p, k=bool(random.getrandbits(1)))\n",
    "    y.append(pick)\n",
    "\n",
    "u, s = np.mean(y), np.std(y)\n",
    "plt.scatter(x, y, label=r'$\\mu=%.2f,\\ \\sigma=%.2f$' % (u, s))\n",
    "plt.legend()\n",
    "plt.show()"
   ]
  },
  {
   "cell_type": "markdown",
   "metadata": {},
   "source": [
    "## Binomial and Poisson"
   ]
  },
  {
   "cell_type": "code",
   "execution_count": 4,
   "metadata": {},
   "outputs": [
    {
     "data": {
      "image/png": "[encoded data removed]",
      "text/plain": [
       "<Figure size 432x288 with 1 Axes>"
      ]
     },
     "metadata": {
      "needs_background": "light"
     },
     "output_type": "display_data"
    }
   ],
   "source": [
    "import numpy as np\n",
    "from matplotlib import pyplot as plt\n",
    "import operator as op\n",
    "from functools import reduce\n",
    "\n",
    "def const(n, r):\n",
    "    r = min(r, n-r)\n",
    "    numer = reduce(op.mul, range(n, n-r, -1), 1)\n",
    "    denom = reduce(op.mul, range(1, r+1), 1)\n",
    "    return numer / denom\n",
    "\n",
    "def binomial(n, p):\n",
    "    q = 1 - p\n",
    "    y = [const(n, k) * (p ** k) * (q ** (n-k)) for k in range(n)]\n",
    "    return y, np.mean(y), np.std(y)\n",
    "\n",
    "for ls in [(0.5, 20), (0.7, 40), (0.5, 40)]:\n",
    "    p, n_experiment = ls[0], ls[1]\n",
    "    x = np.arange(n_experiment)\n",
    "    y, u, s = binomial(n_experiment, p)\n",
    "    plt.scatter(x, y, label=r'$\\mu=%.2f,\\ \\sigma=%.2f$' % (u, s))\n",
    "\n",
    "plt.legend()\n",
    "plt.show()"
   ]
  },
  {
   "cell_type": "markdown",
   "metadata": {},
   "source": [
    "## Uniform "
   ]
  },
  {
   "cell_type": "code",
   "execution_count": 5,
   "metadata": {},
   "outputs": [
    {
     "data": {
      "image/png": "[encoded data removed]",
      "text/plain": [
       "<Figure size 432x288 with 1 Axes>"
      ]
     },
     "metadata": {
      "needs_background": "light"
     },
     "output_type": "display_data"
    }
   ],
   "source": [
    "import numpy as np\n",
    "from matplotlib import pyplot as plt\n",
    "\n",
    "def uniform(x, a, b):\n",
    "\n",
    "    y = [1 / (b - a) if a <= val and val <= b\n",
    "                    else 0 for val in x]\n",
    "\n",
    "    return x, y, np.mean(y), np.std(y)\n",
    "\n",
    "x = np.arange(-100, 100) # define range of x\n",
    "for ls in [(-50, 50), (10, 20)]:\n",
    "    a, b = ls[0], ls[1]\n",
    "    x, y, u, s = uniform(x, a, b)\n",
    "    plt.plot(x, y, label=r'$\\mu=%.2f,\\ \\sigma=%.2f$' % (u, s))\n",
    "\n",
    "plt.legend()\n",
    "plt.show()"
   ]
  },
  {
   "cell_type": "markdown",
   "metadata": {},
   "source": [
    "## Exponential"
   ]
  },
  {
   "cell_type": "code",
   "execution_count": 7,
   "metadata": {},
   "outputs": [
    {
     "data": {
      "image/png": "[encoded data removed]",
      "text/plain": [
       "<Figure size 432x288 with 1 Axes>"
      ]
     },
     "metadata": {
      "needs_background": "light"
     },
     "output_type": "display_data"
    }
   ],
   "source": [
    "import numpy as np\n",
    "from matplotlib import pyplot as plt\n",
    "\n",
    "def exponential(x, lamb):\n",
    "    y = lamb * np.exp(-lamb * x)\n",
    "    return x, y, np.mean(y), np.std(y)\n",
    "\n",
    "for lamb in [0.5, 1, 1.5]:\n",
    "\n",
    "    x = np.arange(0, 20, 0.01, dtype=np.float)\n",
    "    x, y, u, s = exponential(x, lamb=lamb)\n",
    "    plt.plot(x, y, label=r'$\\mu=%.2f,\\ \\sigma=%.2f,'\n",
    "                         r'\\ \\lambda=%d$' % (u, s, lamb))\n",
    "plt.legend()\n",
    "plt.show()"
   ]
  },
  {
   "cell_type": "markdown",
   "metadata": {},
   "source": [
    "## Normal"
   ]
  },
  {
   "cell_type": "code",
   "execution_count": 6,
   "metadata": {},
   "outputs": [
    {
     "data": {
      "image/png": "[encoded data removed]",
      "text/plain": [
       "<Figure size 432x288 with 1 Axes>"
      ]
     },
     "metadata": {
      "needs_background": "light"
     },
     "output_type": "display_data"
    }
   ],
   "source": [
    "import numpy as np\n",
    "from matplotlib import pyplot as plt\n",
    "\n",
    "def normal(x, n):\n",
    "    u = x.mean()\n",
    "    s = x.std()\n",
    "\n",
    "    # normalization\n",
    "    x = (x - u) / s\n",
    "\n",
    "    # divide [x.min(), x.max()] by n\n",
    "    x = np.linspace(x.min(), x.max(), n)\n",
    "\n",
    "    a = ((x - 0) ** 2) / (2 * (1 ** 2))\n",
    "    y = 1 / (s * np.sqrt(2 * np.pi)) * np.exp(-a)\n",
    "\n",
    "    return x, y, x.mean(), x.std()\n",
    "\n",
    "x = np.arange(-100, 100) # define range of x\n",
    "x, y, u, s = normal(x, 10000)\n",
    "\n",
    "plt.plot(x, y, label=r'$\\mu=%.2f,\\ \\sigma=%.2f$' % (u, s))\n",
    "plt.legend()\n",
    "plt.show()"
   ]
  },
  {
   "cell_type": "markdown",
   "metadata": {},
   "source": [
    "# 有趣的思考"
   ]
  },
  {
   "cell_type": "markdown",
   "metadata": {},
   "source": [
    "- [均匀分布生成其他分布的方法](https://blog.csdn.net/haolexiao/article/details/60511164)  \n",
    "- [高速公路上的汽车是均匀分布的么？](https://www.zhihu.com/question/301951953/answer/534249959)  \n",
    "[三相交通理论Three-phase traffic theory](https://en.wikipedia.org/wiki/Three-phase_traffic_theory#%22Jam_without_obvious_reason%22_%E2%80%93_F_%E2%86%92_S_%E2%86%92_J_phase_transitions)\n",
    "- [如何生成正态分布](http://bindog.github.io/blog/2015/05/20/different-method-to-generate-normal-distribution/)  \n",
    "[生成正态分布算法比较](https://github.com/miloyip/normaldist-benchmark)"
   ]
  }
 ],
 "metadata": {
  "kernelspec": {
   "display_name": "Python 3",
   "language": "python",
   "name": "python3"
  },
  "language_info": {
   "codemirror_mode": {
    "name": "ipython",
    "version": 3
   },
   "file_extension": ".py",
   "mimetype": "text/x-python",
   "name": "python",
   "nbconvert_exporter": "python",
   "pygments_lexer": "ipython3",
   "version": "3.7.3"
  },
  "toc": {
   "base_numbering": 1,
   "nav_menu": {},
   "number_sections": true,
   "sideBar": true,
   "skip_h1_title": false,
   "title_cell": "Table of Contents",
   "title_sidebar": "Contents",
   "toc_cell": false,
   "toc_position": {
    "height": "calc(100% - 180px)",
    "left": "10px",
    "top": "150px",
    "width": "287px"
   },
   "toc_section_display": true,
   "toc_window_display": true
  }
 },
 "nbformat": 4,
 "nbformat_minor": 2
}
